{
 "cells": [
  {
   "cell_type": "markdown",
   "metadata": {},
   "source": [
    "# Trees and Forests"
   ]
  },
  {
   "cell_type": "markdown",
   "metadata": {},
   "source": [
    "Decision tree is a statistical model that is used in classification. This machine learning approach is used to classify data into classes and to represent the results in a flowchart, such as a tree structure. This model classifies data in a dataset by flowing through a query structure from the root until it reaches the leaf, which represents one class. The root represents the attribute that plays a main role in classification, and the leaf represents the class. The decision tree model follows the steps outlined below in classifying data:\n",
    "\n",
    "1. It puts all training examples to a root.\n",
    "\n",
    "2. It divides training examples based on selected attributes.\n",
    "\n",
    "3. It selects attributes by using some statistical measures.\n",
    "\n",
    "4. Recursive partitioning continues until no training example remains, or until no attribute remains, or the \n",
    " remaining training examples belong to the same class.\n",
    " \n",
    "Decision tree learning is supervised, because it constructs decision tree from class-labeled training tuples. We will discuss two decision tree algorithms as follows:\n",
    "\n",
    "a. ID3 (Iterative Dichotomiser 3)\n",
    "\n",
    "b. C4.5 (Successor of ID3)\n",
    "\n",
    "The statistical measure used to select attribute (that best splits the dataset in terms of given classes) in ID3 is information gain, whereas in C4.5, the criterion is gain ratio. Both measures have a close relationship with another concept called entropy.\n",
    "\n",
    "We use Iris flower data set or Fisher's Iris data set for our practice."
   ]
  },
  {
   "cell_type": "code",
   "execution_count": 2,
   "metadata": {},
   "outputs": [
    {
     "name": "stdout",
     "output_type": "stream",
     "text": [
      "The observation class is: [1]\n"
     ]
    }
   ],
   "source": [
    "# Decision Tree Classifier\n",
    "\n",
    "from sklearn.tree import DecisionTreeClassifier\n",
    "from sklearn import datasets\n",
    "\n",
    "iris = datasets.load_iris()\n",
    "X = iris.data\n",
    "y = iris.target\n",
    "\n",
    "decisiontree = DecisionTreeClassifier(random_state=0)\n",
    "\n",
    "model = decisiontree.fit(X, y)\n",
    "\n",
    "#New observation\n",
    "observation = [[5, 4, 3, 2]]\n",
    "\n",
    "print(\"The observation class is:\", model.predict(observation))\n",
    "# model.predict_proba(observation)  "
   ]
  },
  {
   "cell_type": "markdown",
   "metadata": {},
   "source": [
    "Decision Tree can be used as Regressor as well."
   ]
  },
  {
   "cell_type": "code",
   "execution_count": 11,
   "metadata": {},
   "outputs": [
    {
     "data": {
      "text/plain": [
       "array([33.])"
      ]
     },
     "execution_count": 11,
     "metadata": {},
     "output_type": "execute_result"
    }
   ],
   "source": [
    "# Decision Tree Regressor\n",
    "from sklearn.tree import DecisionTreeRegressor\n",
    "from sklearn import datasets \n",
    "\n",
    "boston = datasets.load_boston()\n",
    "X = boston.data[:, 0:2]\n",
    "y = boston.target\n",
    "\n",
    "decisiontree = DecisionTreeRegressor(random_state=0)\n",
    "model = decisiontree.fit(X, y)\n",
    "\n",
    "#New observation\n",
    "observation = [[0.02, 16]]\n",
    "\n",
    "model.predict(observation)\n"
   ]
  },
  {
   "cell_type": "markdown",
   "metadata": {},
   "source": [
    "Random Forest is a flexible, easy to use supervised machine learning algorithm that produces a great result most of the time. It is also one of the most used algorithms, because it’s simplicity, NO hyperparametr, and the fact that it can be used for both classification and regression tasks.\n",
    "\n",
    "Random forest builds multiple decision trees and merges them together to get a more accurate and stable prediction."
   ]
  },
  {
   "cell_type": "code",
   "execution_count": 4,
   "metadata": {},
   "outputs": [
    {
     "name": "stdout",
     "output_type": "stream",
     "text": [
      "The observation class is: [1]\n",
      "The probibility of each class is: [[0.03 0.56 0.41]]\n"
     ]
    }
   ],
   "source": [
    "# Random Forest Classifier\n",
    "from sklearn.ensemble import RandomForestClassifier\n",
    "from sklearn import datasets\n",
    "\n",
    "iris = datasets.load_iris()\n",
    "X = iris.data\n",
    "y = iris.target\n",
    "\n",
    "randomforest = RandomForestClassifier(random_state=0, n_estimators=100, n_jobs=-1)\n",
    "\n",
    "model = randomforest.fit(X, y)\n",
    "\n",
    "#New observation\n",
    "observation = [[5, 4, 3, 2]]\n",
    "\n",
    "print(\"The observation class is:\", model.predict(observation))\n",
    "print(\"The probibility of each class is:\", model.predict_proba(observation))\n",
    "\n"
   ]
  },
  {
   "cell_type": "code",
   "execution_count": 5,
   "metadata": {},
   "outputs": [
    {
     "data": {
      "text/plain": [
       "array([30.316])"
      ]
     },
     "execution_count": 5,
     "metadata": {},
     "output_type": "execute_result"
    }
   ],
   "source": [
    "# Random Forest Regressor\n",
    "from sklearn.ensemble import RandomForestRegressor\n",
    "from sklearn import datasets\n",
    "\n",
    "boston = datasets.load_boston()\n",
    "X = boston.data[:, 0:2]\n",
    "y = boston.target\n",
    "\n",
    "randomforest = RandomForestRegressor(random_state=0, n_estimators=100, n_jobs=-1)\n",
    "model = randomforest.fit(X, y)\n",
    "\n",
    "#New observation\n",
    "observation = [[0.02, 16]]\n",
    "\n",
    "model.predict(observation)\n"
   ]
  },
  {
   "cell_type": "markdown",
   "metadata": {},
   "source": [
    "The Random Forest Classifier can be used to detemine the important features. It can be used for feature selection."
   ]
  },
  {
   "cell_type": "code",
   "execution_count": 10,
   "metadata": {},
   "outputs": [
    {
     "data": {
      "image/png": "[encoded data removed]",
      "text/plain": [
       "<Figure size 432x288 with 1 Axes>"
      ]
     },
     "metadata": {
      "needs_background": "light"
     },
     "output_type": "display_data"
    }
   ],
   "source": [
    "# Important Feature in random forest\n",
    "import numpy as np\n",
    "import matplotlib.pyplot as plt\n",
    "from sklearn.ensemble import RandomForestClassifier\n",
    "from sklearn import datasets\n",
    "\n",
    "iris = datasets.load_iris()\n",
    "X = iris.data\n",
    "y = iris.target\n",
    "\n",
    "randomforest = RandomForestClassifier(random_state=0, n_estimators=100, n_jobs=-1)\n",
    "\n",
    "model = randomforest.fit(X, y)\n",
    "\n",
    "importances = model.feature_importances_\n",
    "indices = np.argsort(importances)[::-1]\n",
    "names = [iris.feature_names[i] for i in indices]\n",
    "\n",
    "plt.figure()\n",
    "plt.title(\"Feature Importances\")\n",
    "\n",
    "plt.bar(range(X.shape[1]), importances[indices])\n",
    "\n",
    "plt.xticks(range(X.shape[1]), names, rotation=90)\n",
    "\n",
    "plt.show()"
   ]
  },
  {
   "cell_type": "code",
   "execution_count": 28,
   "metadata": {},
   "outputs": [
    {
     "data": {
      "text/plain": [
       "array([[0., 0., 1.]])"
      ]
     },
     "execution_count": 28,
     "metadata": {},
     "output_type": "execute_result"
    }
   ],
   "source": [
    "# Selecting important features\n",
    "from sklearn.ensemble import RandomForestClassifier\n",
    "from sklearn import datasets\n",
    "from sklearn.feature_selection import SelectFromModel\n",
    "\n",
    "iris = datasets.load_iris()\n",
    "X = iris.data\n",
    "y = iris.target\n",
    "\n",
    "randomforest = RandomForestClassifier(random_state=0, n_estimators=100, n_jobs=-1)\n",
    "#model = randomforest.fit(X, y)\n",
    "\n",
    "\n",
    "selector = SelectFromModel(randomforest, threshold=0.3)\n",
    "\n",
    "feature_important = selector.fit_transform(X, y)\n",
    "\n",
    "model = randomforest.fit(feature_important, y)\n",
    "\n",
    "#New observation\n",
    "observation = [[5, 4]]\n",
    "\n",
    "model.predict(observation)\n",
    "model.predict_proba(observation)\n"
   ]
  },
  {
   "cell_type": "markdown",
   "metadata": {},
   "source": [
    "Random Forest Classifier can be used to classifoes imbalanced Data. "
   ]
  },
  {
   "cell_type": "code",
   "execution_count": 30,
   "metadata": {},
   "outputs": [],
   "source": [
    "# Imbalanced Data\n",
    "\n",
    "from sklearn.ensemble import RandomForestClassifier\n",
    "from sklearn import datasets\n",
    "import numpy as np\n",
    "\n",
    "iris = datasets.load_iris()\n",
    "X = iris.data\n",
    "y = iris.target\n",
    "\n",
    "# imbalancing the data\n",
    "X = X[40:, :]\n",
    "y = y[40:]\n",
    "\n",
    "y = np.where((y==0), 0, 1)\n",
    "\n",
    "randomforest = RandomForestClassifier(random_state=0, n_estimators=100, n_jobs=-1, class_weight='balanced')\n",
    "\n",
    "model = randomforest.fit(X, y)\n"
   ]
  }
 ],
 "metadata": {
  "kernelspec": {
   "display_name": "Python 3",
   "language": "python",
   "name": "python3"
  },
  "language_info": {
   "codemirror_mode": {
    "name": "ipython",
    "version": 3
   },
   "file_extension": ".py",
   "mimetype": "text/x-python",
   "name": "python",
   "nbconvert_exporter": "python",
   "pygments_lexer": "ipython3",
   "version": "3.7.3"
  }
 },
 "nbformat": 4,
 "nbformat_minor": 2
}
